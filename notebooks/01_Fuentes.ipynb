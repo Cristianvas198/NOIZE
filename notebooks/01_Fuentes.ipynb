{
 "cells": [
  {
   "cell_type": "code",
   "execution_count": null,
   "metadata": {},
   "outputs": [],
   "source": [
    "import pandas as pd\n",
    "import numpy as np\n",
    "import matplotlib.pyplot as plt\n",
    "import seaborn as sns\n",
    "\n",
    "# Cargar datos\n",
    "df = pd.read_csv(\"../data/raw/dataset.csv\", index_col=0)\n",
    "\n",
    "# Información general del dataset\n",
    "print(\"Total de filas:\", df.shape[0])\n",
    "print(\"Total de columnas:\", df.shape[1])\n",
    "print(\"\\nTipos de datos:\")\n",
    "print(df.dtypes)\n",
    "print(\"\\nValores nulos por columna:\")\n",
    "print(df.isnull().sum())\n",
    "\n",
    "# Visualización de distribución de popularidad\n",
    "plt.figure(figsize=(12, 6))\n",
    "plt.subplot(1, 2, 1)\n",
    "sns.histplot(df['popularity'], bins=30, kde=True, color='skyblue')\n",
    "plt.title('Distribución de Popularidad')\n",
    "\n",
    "plt.subplot(1, 2, 2)\n",
    "sns.boxplot(y=df['popularity'], color='lightgreen')\n",
    "plt.title('Boxplot de Popularidad')\n",
    "plt.show()\n",
    "\n",
    "# Matriz de correlaciones\n",
    "plt.figure(figsize=(12, 10))\n",
    "sns.heatmap(df.corr(), annot=True, cmap='coolwarm', fmt=\".2f\", linewidths=0.5)\n",
    "plt.title(\"Matriz de Correlación - Spotify Dataset\")\n",
    "plt.show()\n"
   ]
  }
 ],
 "metadata": {
  "language_info": {
   "name": "python"
  }
 },
 "nbformat": 4,
 "nbformat_minor": 2
}
