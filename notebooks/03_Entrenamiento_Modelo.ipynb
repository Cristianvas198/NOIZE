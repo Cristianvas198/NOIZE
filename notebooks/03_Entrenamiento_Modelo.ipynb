{
 "cells": [
  {
   "cell_type": "markdown",
   "metadata": {},
   "source": [
    "# ENTRENAMIENTO DE DATOS"
   ]
  },
  {
   "cell_type": "markdown",
   "metadata": {},
   "source": [
    "### LIBRERIAS"
   ]
  },
  {
   "cell_type": "code",
   "execution_count": 2,
   "metadata": {},
   "outputs": [],
   "source": [
    "import pandas as pd\n",
    "import numpy as np\n",
    "import joblib\n",
    "import os\n",
    "from sklearn.model_selection import train_test_split, RandomizedSearchCV\n",
    "from sklearn.preprocessing import StandardScaler\n",
    "from sklearn.ensemble import RandomForestRegressor, GradientBoostingRegressor\n",
    "from sklearn.linear_model import LinearRegression\n",
    "from sklearn.svm import SVR\n",
    "from xgboost import XGBRegressor\n",
    "from sklearn.metrics import mean_squared_error, mean_absolute_error, r2_score"
   ]
  },
  {
   "cell_type": "markdown",
   "metadata": {},
   "source": [
    "### CARGAR DATOS PROCESADOS"
   ]
  },
  {
   "cell_type": "code",
   "execution_count": 3,
   "metadata": {},
   "outputs": [],
   "source": [
    "df = pd.read_csv(\"../data/processed/dataset_clean.csv\")"
   ]
  },
  {
   "cell_type": "markdown",
   "metadata": {},
   "source": [
    "### Definir características y variable objetivo"
   ]
  },
  {
   "cell_type": "code",
   "execution_count": 4,
   "metadata": {},
   "outputs": [],
   "source": [
    "features = ['duration_min', 'explicit', 'danceability', 'energy', 'key', \n",
    "            'loudness', 'mode', 'speechiness', 'acousticness', \n",
    "            'instrumentalness', 'liveness', 'valence', 'tempo','track_genre_encoded']\n",
    "\n",
    "X = df[features]\n",
    "y = df['popularity']"
   ]
  },
  {
   "cell_type": "markdown",
   "metadata": {},
   "source": [
    "### Normalización de datos"
   ]
  },
  {
   "cell_type": "code",
   "execution_count": 5,
   "metadata": {},
   "outputs": [],
   "source": [
    "scaler = StandardScaler()\n",
    "X_scaled = scaler.fit_transform(X)"
   ]
  },
  {
   "cell_type": "markdown",
   "metadata": {},
   "source": [
    "### División en entrenamiento y prueba"
   ]
  },
  {
   "cell_type": "code",
   "execution_count": 6,
   "metadata": {},
   "outputs": [],
   "source": [
    "X_train, X_test, y_train, y_test = train_test_split(X_scaled, y, test_size=0.2, random_state=42)"
   ]
  },
  {
   "cell_type": "markdown",
   "metadata": {},
   "source": [
    "### ENTRENAMIENTO Y GUARDADO DE MODELOS"
   ]
  },
  {
   "cell_type": "code",
   "execution_count": 7,
   "metadata": {},
   "outputs": [],
   "source": [
    "modelos = {\n",
    "    \"Regresión Lineal\": LinearRegression(),\n",
    "    \"Random Forest\": RandomForestRegressor(random_state=42),\n",
    "    \"Gradient Boosting\": GradientBoostingRegressor(random_state=42),\n",
    "    \"XGBoost\": XGBRegressor(random_state=42),\n",
    "    \"SVR\": SVR()\n",
    "}"
   ]
  },
  {
   "cell_type": "markdown",
   "metadata": {},
   "source": [
    "### Carpeta para guardar modelos"
   ]
  },
  {
   "cell_type": "code",
   "execution_count": 8,
   "metadata": {},
   "outputs": [],
   "source": [
    "models_dir = \"../models/\"\n",
    "os.makedirs(models_dir, exist_ok=True)"
   ]
  },
  {
   "cell_type": "markdown",
   "metadata": {},
   "source": [
    "### Evaluar cada modelo y guardar sus resultados"
   ]
  },
  {
   "cell_type": "code",
   "execution_count": 9,
   "metadata": {},
   "outputs": [
    {
     "name": "stdout",
     "output_type": "stream",
     "text": [
      "\n",
      "Entrenando modelos...\n",
      "Regresión Lineal - RMSE: 22.1 - MAE: 18.4 - R²: 0.028\n",
      "Random Forest - RMSE: 15.9 - MAE: 11.0 - R²: 0.498\n",
      "Gradient Boosting - RMSE: 20.3 - MAE: 16.2 - R²: 0.182\n",
      "XGBoost - RMSE: 17.4 - MAE: 12.9 - R²: 0.396\n",
      "SVR - RMSE: 21.3 - MAE: 16.9 - R²: 0.098\n",
      "\n",
      "Mejor modelo seleccionado: ../models/Random_Forest.pkl\n"
     ]
    }
   ],
   "source": [
    "mejor_modelo = None\n",
    "mejor_rmse = float(\"inf\")\n",
    "\n",
    "print(\"\\nEntrenando modelos...\")\n",
    "for nombre, modelo in modelos.items():\n",
    "    modelo.fit(X_train, y_train)\n",
    "    predicciones = modelo.predict(X_test)\n",
    "\n",
    "    rmse = np.sqrt(mean_squared_error(y_test, predicciones))\n",
    "    mae = mean_absolute_error(y_test, predicciones)\n",
    "    r2 = r2_score(y_test, predicciones)\n",
    "\n",
    "    print(nombre, \"- RMSE:\", round(rmse, 1), \"- MAE:\", round(mae, 1), \"- R²:\", round(r2, 3))\n",
    "\n",
    "    # Guardar modelo en la carpeta \"models\"\n",
    "    modelo_path = os.path.join(models_dir, f\"{nombre.replace(' ', '_')}.pkl\")\n",
    "    joblib.dump(modelo, modelo_path)\n",
    "\n",
    "    # Actualizar el mejor modelo según RMSE\n",
    "    if rmse < mejor_rmse:\n",
    "        mejor_rmse = rmse\n",
    "        mejor_modelo = modelo_path\n",
    "\n",
    "print(\"\\nMejor modelo seleccionado:\", mejor_modelo)"
   ]
  },
  {
   "cell_type": "markdown",
   "metadata": {},
   "source": [
    "### OPTIMIZACIÓN DEL MEJOR MODELO"
   ]
  },
  {
   "cell_type": "code",
   "execution_count": 10,
   "metadata": {},
   "outputs": [],
   "source": [
    "param_dist = {\n",
    "    'n_estimators': [50, 100, 200],\n",
    "    'max_depth': [None, 5, 10, 20],\n",
    "    'min_samples_split': [2, 5, 10],\n",
    "    'min_samples_leaf': [1, 2, 4],\n",
    "    'max_features': ['auto', 'sqrt', 'log2'],\n",
    "    'bootstrap': [True, False],\n",
    "    'criterion': ['squared_error', 'absolute_error']\n",
    "}"
   ]
  },
  {
   "cell_type": "markdown",
   "metadata": {},
   "source": [
    "### Cargar el mejor modelo encontrado"
   ]
  },
  {
   "cell_type": "code",
   "execution_count": 11,
   "metadata": {},
   "outputs": [],
   "source": [
    "modelo_final = joblib.load(mejor_modelo)"
   ]
  },
  {
   "cell_type": "markdown",
   "metadata": {},
   "source": [
    "### Optimizar el modelo con RandomizedSearchCV"
   ]
  },
  {
   "cell_type": "code",
   "execution_count": null,
   "metadata": {},
   "outputs": [
    {
     "name": "stdout",
     "output_type": "stream",
     "text": [
      "Fitting 5 folds for each of 3 candidates, totalling 15 fits\n"
     ]
    }
   ],
   "source": [
    "search = RandomizedSearchCV(modelo_final, param_dist, n_iter=3, cv=5, scoring='neg_mean_squared_error', n_jobs=1, random_state=42, verbose=2)\n",
    "search.fit(X_train, y_train)\n",
    "\n",
    "print(\"\\nMejor modelo optimizado:\", search.best_params_)\n",
    "print(\"Error optimizado (RMSE):\", round(np.sqrt(-search.best_score_), 1))"
   ]
  },
  {
   "cell_type": "markdown",
   "metadata": {},
   "source": [
    "### Guardar el modelo final"
   ]
  },
  {
   "cell_type": "code",
   "execution_count": null,
   "metadata": {},
   "outputs": [],
   "source": [
    "modelo_final_path = os.path.join(models_dir, \"modelo_final.pkl\")\n",
    "joblib.dump(search.best_estimator_, modelo_final_path)\n",
    "print(\"Modelo final guardado en:\", modelo_final_path)\n"
   ]
  }
 ],
 "metadata": {
  "kernelspec": {
   "display_name": "Python 3",
   "language": "python",
   "name": "python3"
  },
  "language_info": {
   "codemirror_mode": {
    "name": "ipython",
    "version": 3
   },
   "file_extension": ".py",
   "mimetype": "text/x-python",
   "name": "python",
   "nbconvert_exporter": "python",
   "pygments_lexer": "ipython3",
   "version": "3.13.2"
  }
 },
 "nbformat": 4,
 "nbformat_minor": 2
}
