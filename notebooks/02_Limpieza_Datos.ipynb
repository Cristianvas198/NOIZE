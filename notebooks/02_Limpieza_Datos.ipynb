{
 "cells": [
  {
   "cell_type": "code",
   "execution_count": null,
   "metadata": {},
   "outputs": [],
   "source": [
    "import pandas as pd\n",
    "from sklearn.preprocessing import LabelEncoder\n",
    "import numpy as np\n",
    "\n",
    "# Cargar datos\n",
    "df = pd.read_csv(\"../data/raw/dataset.csv\", index_col=0)\n",
    "\n",
    "# Eliminar canciones con popularidad < 5 (outliers)\n",
    "df = df[df['popularity'] > 5]\n",
    "\n",
    "# Convertir valores booleanos a enteros\n",
    "df['explicit'] = df['explicit'].astype(int)\n",
    "\n",
    "# Codificar variables categóricas\n",
    "le = LabelEncoder()\n",
    "df['track_genre_encoded'] = le.fit_transform(df['track_genre'])\n",
    "\n",
    "# Guardar dataset limpio\n",
    "processed_path = \"../data/processed/dataset_clean.csv\"\n",
    "df.to_csv(processed_path, index=False)\n",
    "print(\"Datos limpios guardados en:\", processed_path)\n"
   ]
  }
 ],
 "metadata": {
  "language_info": {
   "name": "python"
  }
 },
 "nbformat": 4,
 "nbformat_minor": 2
}
